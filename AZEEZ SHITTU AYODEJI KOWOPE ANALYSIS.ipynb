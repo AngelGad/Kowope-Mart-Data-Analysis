{
 "cells": [
  {
   "cell_type": "code",
   "execution_count": 1,
   "metadata": {},
   "outputs": [],
   "source": [
    "import pandas as pd\n",
    "import numpy as np\n",
    "import matplotlib.pyplot as plt\n",
    "import seaborn as sns\n",
    "%matplotlib inline"
   ]
  },
  {
   "cell_type": "code",
   "execution_count": 2,
   "metadata": {},
   "outputs": [],
   "source": [
    "kowope_analysis = pd.read_csv(\"Kowope mart.csv\")"
   ]
  },
  {
   "cell_type": "code",
   "execution_count": 3,
   "metadata": {},
   "outputs": [
    {
     "data": {
      "text/html": [
       "<div>\n",
       "<style scoped>\n",
       "    .dataframe tbody tr th:only-of-type {\n",
       "        vertical-align: middle;\n",
       "    }\n",
       "\n",
       "    .dataframe tbody tr th {\n",
       "        vertical-align: top;\n",
       "    }\n",
       "\n",
       "    .dataframe thead th {\n",
       "        text-align: right;\n",
       "    }\n",
       "</style>\n",
       "<table border=\"1\" class=\"dataframe\">\n",
       "  <thead>\n",
       "    <tr style=\"text-align: right;\">\n",
       "      <th></th>\n",
       "      <th>Applicant_ID</th>\n",
       "      <th>form_field1</th>\n",
       "      <th>form_field2</th>\n",
       "      <th>form_field3</th>\n",
       "      <th>form_field4</th>\n",
       "      <th>form_field5</th>\n",
       "      <th>form_field6</th>\n",
       "      <th>form_field7</th>\n",
       "      <th>form_field8</th>\n",
       "      <th>form_field9</th>\n",
       "      <th>...</th>\n",
       "      <th>form_field42</th>\n",
       "      <th>form_field43</th>\n",
       "      <th>form_field44</th>\n",
       "      <th>form_field45</th>\n",
       "      <th>form_field46</th>\n",
       "      <th>form_field47</th>\n",
       "      <th>form_field48</th>\n",
       "      <th>form_field49</th>\n",
       "      <th>form_field50</th>\n",
       "      <th>default_status</th>\n",
       "    </tr>\n",
       "  </thead>\n",
       "  <tbody>\n",
       "    <tr>\n",
       "      <th>0</th>\n",
       "      <td>Apcnt_1000000</td>\n",
       "      <td>3436.0</td>\n",
       "      <td>0.28505</td>\n",
       "      <td>1.6560</td>\n",
       "      <td>0.0</td>\n",
       "      <td>0.000</td>\n",
       "      <td>0.0</td>\n",
       "      <td>10689720.0</td>\n",
       "      <td>252072.0</td>\n",
       "      <td>4272776.0</td>\n",
       "      <td>...</td>\n",
       "      <td>0.392854</td>\n",
       "      <td>2.02</td>\n",
       "      <td>0.711632</td>\n",
       "      <td>0.0</td>\n",
       "      <td>0.0</td>\n",
       "      <td>charge</td>\n",
       "      <td>NaN</td>\n",
       "      <td>1.129518</td>\n",
       "      <td>0.044335</td>\n",
       "      <td>no</td>\n",
       "    </tr>\n",
       "    <tr>\n",
       "      <th>1</th>\n",
       "      <td>Apcnt_1000004</td>\n",
       "      <td>3456.0</td>\n",
       "      <td>0.67400</td>\n",
       "      <td>0.2342</td>\n",
       "      <td>0.0</td>\n",
       "      <td>0.000</td>\n",
       "      <td>0.0</td>\n",
       "      <td>898979.0</td>\n",
       "      <td>497531.0</td>\n",
       "      <td>9073814.0</td>\n",
       "      <td>...</td>\n",
       "      <td>0.314281</td>\n",
       "      <td>8.08</td>\n",
       "      <td>0.183584</td>\n",
       "      <td>NaN</td>\n",
       "      <td>0.0</td>\n",
       "      <td>charge</td>\n",
       "      <td>349.805730</td>\n",
       "      <td>1.620483</td>\n",
       "      <td>0.322436</td>\n",
       "      <td>no</td>\n",
       "    </tr>\n",
       "    <tr>\n",
       "      <th>2</th>\n",
       "      <td>Apcnt_1000008</td>\n",
       "      <td>3276.0</td>\n",
       "      <td>0.53845</td>\n",
       "      <td>3.1510</td>\n",
       "      <td>0.0</td>\n",
       "      <td>6.282</td>\n",
       "      <td>NaN</td>\n",
       "      <td>956940.0</td>\n",
       "      <td>NaN</td>\n",
       "      <td>192944.0</td>\n",
       "      <td>...</td>\n",
       "      <td>0.162965</td>\n",
       "      <td>18.18</td>\n",
       "      <td>0.791136</td>\n",
       "      <td>0.0</td>\n",
       "      <td>0.0</td>\n",
       "      <td>charge</td>\n",
       "      <td>NaN</td>\n",
       "      <td>1.513370</td>\n",
       "      <td>0.011640</td>\n",
       "      <td>yes</td>\n",
       "    </tr>\n",
       "    <tr>\n",
       "      <th>3</th>\n",
       "      <td>Apcnt_1000012</td>\n",
       "      <td>3372.0</td>\n",
       "      <td>0.17005</td>\n",
       "      <td>0.5050</td>\n",
       "      <td>0.0</td>\n",
       "      <td>0.000</td>\n",
       "      <td>192166.0</td>\n",
       "      <td>3044703.0</td>\n",
       "      <td>385499.0</td>\n",
       "      <td>3986472.0</td>\n",
       "      <td>...</td>\n",
       "      <td>0.488884</td>\n",
       "      <td>2.02</td>\n",
       "      <td>0.685168</td>\n",
       "      <td>NaN</td>\n",
       "      <td>0.0</td>\n",
       "      <td>charge</td>\n",
       "      <td>89.940100</td>\n",
       "      <td>0.664452</td>\n",
       "      <td>0.082729</td>\n",
       "      <td>no</td>\n",
       "    </tr>\n",
       "    <tr>\n",
       "      <th>4</th>\n",
       "      <td>Apcnt_1000016</td>\n",
       "      <td>3370.0</td>\n",
       "      <td>0.77270</td>\n",
       "      <td>1.1010</td>\n",
       "      <td>0.0</td>\n",
       "      <td>0.000</td>\n",
       "      <td>1556.0</td>\n",
       "      <td>214728.0</td>\n",
       "      <td>214728.0</td>\n",
       "      <td>1284089.0</td>\n",
       "      <td>...</td>\n",
       "      <td>0.275000</td>\n",
       "      <td>12.12</td>\n",
       "      <td>0.438168</td>\n",
       "      <td>0.0</td>\n",
       "      <td>0.0</td>\n",
       "      <td>charge</td>\n",
       "      <td>97.887502</td>\n",
       "      <td>1.427891</td>\n",
       "      <td>0.045630</td>\n",
       "      <td>no</td>\n",
       "    </tr>\n",
       "  </tbody>\n",
       "</table>\n",
       "<p>5 rows × 52 columns</p>\n",
       "</div>"
      ],
      "text/plain": [
       "    Applicant_ID  form_field1  form_field2  form_field3  form_field4  \\\n",
       "0  Apcnt_1000000       3436.0      0.28505       1.6560          0.0   \n",
       "1  Apcnt_1000004       3456.0      0.67400       0.2342          0.0   \n",
       "2  Apcnt_1000008       3276.0      0.53845       3.1510          0.0   \n",
       "3  Apcnt_1000012       3372.0      0.17005       0.5050          0.0   \n",
       "4  Apcnt_1000016       3370.0      0.77270       1.1010          0.0   \n",
       "\n",
       "   form_field5  form_field6  form_field7  form_field8  form_field9  ...  \\\n",
       "0        0.000          0.0   10689720.0     252072.0    4272776.0  ...   \n",
       "1        0.000          0.0     898979.0     497531.0    9073814.0  ...   \n",
       "2        6.282          NaN     956940.0          NaN     192944.0  ...   \n",
       "3        0.000     192166.0    3044703.0     385499.0    3986472.0  ...   \n",
       "4        0.000       1556.0     214728.0     214728.0    1284089.0  ...   \n",
       "\n",
       "   form_field42  form_field43  form_field44  form_field45  form_field46  \\\n",
       "0      0.392854          2.02      0.711632           0.0           0.0   \n",
       "1      0.314281          8.08      0.183584           NaN           0.0   \n",
       "2      0.162965         18.18      0.791136           0.0           0.0   \n",
       "3      0.488884          2.02      0.685168           NaN           0.0   \n",
       "4      0.275000         12.12      0.438168           0.0           0.0   \n",
       "\n",
       "   form_field47  form_field48  form_field49  form_field50  default_status  \n",
       "0        charge           NaN      1.129518      0.044335              no  \n",
       "1        charge    349.805730      1.620483      0.322436              no  \n",
       "2        charge           NaN      1.513370      0.011640             yes  \n",
       "3        charge     89.940100      0.664452      0.082729              no  \n",
       "4        charge     97.887502      1.427891      0.045630              no  \n",
       "\n",
       "[5 rows x 52 columns]"
      ]
     },
     "execution_count": 3,
     "metadata": {},
     "output_type": "execute_result"
    }
   ],
   "source": [
    "kowope_analysis.head()"
   ]
  },
  {
   "cell_type": "code",
   "execution_count": 4,
   "metadata": {},
   "outputs": [
    {
     "name": "stdout",
     "output_type": "stream",
     "text": [
      "<class 'pandas.core.frame.DataFrame'>\n",
      "RangeIndex: 56000 entries, 0 to 55999\n",
      "Data columns (total 52 columns):\n",
      " #   Column          Non-Null Count  Dtype  \n",
      "---  ------          --------------  -----  \n",
      " 0   Applicant_ID    56000 non-null  object \n",
      " 1   form_field1     53471 non-null  float64\n",
      " 2   form_field2     52156 non-null  float64\n",
      " 3   form_field3     55645 non-null  float64\n",
      " 4   form_field4     55645 non-null  float64\n",
      " 5   form_field5     55645 non-null  float64\n",
      " 6   form_field6     42640 non-null  float64\n",
      " 7   form_field7     50837 non-null  float64\n",
      " 8   form_field8     42640 non-null  float64\n",
      " 9   form_field9     47992 non-null  float64\n",
      " 10  form_field10    55645 non-null  float64\n",
      " 11  form_field11    24579 non-null  float64\n",
      " 12  form_field12    46105 non-null  float64\n",
      " 13  form_field13    50111 non-null  float64\n",
      " 14  form_field14    56000 non-null  int64  \n",
      " 15  form_field15    33525 non-null  float64\n",
      " 16  form_field16    42964 non-null  float64\n",
      " 17  form_field17    44849 non-null  float64\n",
      " 18  form_field18    45598 non-null  float64\n",
      " 19  form_field19    55996 non-null  float64\n",
      " 20  form_field20    55645 non-null  float64\n",
      " 21  form_field21    40146 non-null  float64\n",
      " 22  form_field22    35600 non-null  float64\n",
      " 23  form_field23    27877 non-null  float64\n",
      " 24  form_field24    42703 non-null  float64\n",
      " 25  form_field25    50550 non-null  float64\n",
      " 26  form_field26    48562 non-null  float64\n",
      " 27  form_field27    46701 non-null  float64\n",
      " 28  form_field28    55645 non-null  float64\n",
      " 29  form_field29    55645 non-null  float64\n",
      " 30  form_field30    30491 non-null  float64\n",
      " 31  form_field31    16592 non-null  float64\n",
      " 32  form_field32    50550 non-null  float64\n",
      " 33  form_field33    54744 non-null  float64\n",
      " 34  form_field34    55645 non-null  float64\n",
      " 35  form_field35    32852 non-null  float64\n",
      " 36  form_field36    54005 non-null  float64\n",
      " 37  form_field37    50550 non-null  float64\n",
      " 38  form_field38    55645 non-null  float64\n",
      " 39  form_field39    51789 non-null  float64\n",
      " 40  form_field40    12271 non-null  float64\n",
      " 41  form_field41    17771 non-null  float64\n",
      " 42  form_field42    54677 non-null  float64\n",
      " 43  form_field43    55432 non-null  float64\n",
      " 44  form_field44    50617 non-null  float64\n",
      " 45  form_field45    24683 non-null  float64\n",
      " 46  form_field46    40096 non-null  float64\n",
      " 47  form_field47    56000 non-null  object \n",
      " 48  form_field48    35111 non-null  float64\n",
      " 49  form_field49    55645 non-null  float64\n",
      " 50  form_field50    44944 non-null  float64\n",
      " 51  default_status  56000 non-null  object \n",
      "dtypes: float64(48), int64(1), object(3)\n",
      "memory usage: 22.2+ MB\n"
     ]
    }
   ],
   "source": [
    "kowope_analysis.info()"
   ]
  },
  {
   "cell_type": "code",
   "execution_count": 5,
   "metadata": {},
   "outputs": [
    {
     "data": {
      "text/plain": [
       "(56000, 52)"
      ]
     },
     "execution_count": 5,
     "metadata": {},
     "output_type": "execute_result"
    }
   ],
   "source": [
    "kowope_analysis.shape"
   ]
  },
  {
   "cell_type": "code",
   "execution_count": 6,
   "metadata": {},
   "outputs": [
    {
     "name": "stdout",
     "output_type": "stream",
     "text": [
      "Applicant_ID          0\n",
      "form_field1        2529\n",
      "form_field2        3844\n",
      "form_field3         355\n",
      "form_field4         355\n",
      "form_field5         355\n",
      "form_field6       13360\n",
      "form_field7        5163\n",
      "form_field8       13360\n",
      "form_field9        8008\n",
      "form_field10        355\n",
      "form_field11      31421\n",
      "form_field12       9895\n",
      "form_field13       5889\n",
      "form_field14          0\n",
      "form_field15      22475\n",
      "form_field16      13036\n",
      "form_field17      11151\n",
      "form_field18      10402\n",
      "form_field19          4\n",
      "form_field20        355\n",
      "form_field21      15854\n",
      "form_field22      20400\n",
      "form_field23      28123\n",
      "form_field24      13297\n",
      "form_field25       5450\n",
      "form_field26       7438\n",
      "form_field27       9299\n",
      "form_field28        355\n",
      "form_field29        355\n",
      "form_field30      25509\n",
      "form_field31      39408\n",
      "form_field32       5450\n",
      "form_field33       1256\n",
      "form_field34        355\n",
      "form_field35      23148\n",
      "form_field36       1995\n",
      "form_field37       5450\n",
      "form_field38        355\n",
      "form_field39       4211\n",
      "form_field40      43729\n",
      "form_field41      38229\n",
      "form_field42       1323\n",
      "form_field43        568\n",
      "form_field44       5383\n",
      "form_field45      31317\n",
      "form_field46      15904\n",
      "form_field47          0\n",
      "form_field48      20889\n",
      "form_field49        355\n",
      "form_field50      11056\n",
      "default_status        0\n",
      "dtype: int64\n"
     ]
    }
   ],
   "source": [
    "print(kowope_analysis.isnull().sum())"
   ]
  },
  {
   "cell_type": "code",
   "execution_count": 7,
   "metadata": {},
   "outputs": [
    {
     "data": {
      "text/plain": [
       "<AxesSubplot:>"
      ]
     },
     "execution_count": 7,
     "metadata": {},
     "output_type": "execute_result"
    },
    {
     "data": {
      "image/png": "[encoded data removed]",
      "text/plain": [
       "<Figure size 432x288 with 1 Axes>"
      ]
     },
     "metadata": {
      "needs_background": "light"
     },
     "output_type": "display_data"
    }
   ],
   "source": [
    "# Check to see any missing data\n",
    "sns.heatmap(kowope_analysis.isnull(),yticklabels=False,cbar=False,cmap='viridis')"
   ]
  },
  {
   "cell_type": "code",
   "execution_count": 8,
   "metadata": {},
   "outputs": [
    {
     "data": {
      "text/html": [
       "<div>\n",
       "<style scoped>\n",
       "    .dataframe tbody tr th:only-of-type {\n",
       "        vertical-align: middle;\n",
       "    }\n",
       "\n",
       "    .dataframe tbody tr th {\n",
       "        vertical-align: top;\n",
       "    }\n",
       "\n",
       "    .dataframe thead th {\n",
       "        text-align: right;\n",
       "    }\n",
       "</style>\n",
       "<table border=\"1\" class=\"dataframe\">\n",
       "  <thead>\n",
       "    <tr style=\"text-align: right;\">\n",
       "      <th></th>\n",
       "      <th>form_field1</th>\n",
       "      <th>form_field2</th>\n",
       "      <th>form_field3</th>\n",
       "      <th>form_field4</th>\n",
       "      <th>form_field5</th>\n",
       "      <th>form_field6</th>\n",
       "      <th>form_field7</th>\n",
       "      <th>form_field8</th>\n",
       "      <th>form_field9</th>\n",
       "      <th>form_field10</th>\n",
       "      <th>...</th>\n",
       "      <th>form_field40</th>\n",
       "      <th>form_field41</th>\n",
       "      <th>form_field42</th>\n",
       "      <th>form_field43</th>\n",
       "      <th>form_field44</th>\n",
       "      <th>form_field45</th>\n",
       "      <th>form_field46</th>\n",
       "      <th>form_field48</th>\n",
       "      <th>form_field49</th>\n",
       "      <th>form_field50</th>\n",
       "    </tr>\n",
       "  </thead>\n",
       "  <tbody>\n",
       "    <tr>\n",
       "      <th>count</th>\n",
       "      <td>53471.000000</td>\n",
       "      <td>52156.000000</td>\n",
       "      <td>55645.000000</td>\n",
       "      <td>55645.000000</td>\n",
       "      <td>55645.000000</td>\n",
       "      <td>4.264000e+04</td>\n",
       "      <td>5.083700e+04</td>\n",
       "      <td>4.264000e+04</td>\n",
       "      <td>4.799200e+04</td>\n",
       "      <td>5.564500e+04</td>\n",
       "      <td>...</td>\n",
       "      <td>12271.000000</td>\n",
       "      <td>17771.000000</td>\n",
       "      <td>54677.000000</td>\n",
       "      <td>55432.000000</td>\n",
       "      <td>50617.000000</td>\n",
       "      <td>24683.000000</td>\n",
       "      <td>40096.000000</td>\n",
       "      <td>3.511100e+04</td>\n",
       "      <td>55645.000000</td>\n",
       "      <td>4.494400e+04</td>\n",
       "    </tr>\n",
       "    <tr>\n",
       "      <th>mean</th>\n",
       "      <td>3491.795665</td>\n",
       "      <td>0.550737</td>\n",
       "      <td>1.052225</td>\n",
       "      <td>0.851979</td>\n",
       "      <td>1.956317</td>\n",
       "      <td>6.244479e+05</td>\n",
       "      <td>6.865210e+06</td>\n",
       "      <td>2.626690e+06</td>\n",
       "      <td>1.316002e+07</td>\n",
       "      <td>1.185585e+07</td>\n",
       "      <td>...</td>\n",
       "      <td>147.797977</td>\n",
       "      <td>108.117363</td>\n",
       "      <td>0.368215</td>\n",
       "      <td>6.634511</td>\n",
       "      <td>0.563377</td>\n",
       "      <td>0.072520</td>\n",
       "      <td>0.095371</td>\n",
       "      <td>3.052449e+05</td>\n",
       "      <td>1.049061</td>\n",
       "      <td>6.005862e+05</td>\n",
       "    </tr>\n",
       "    <tr>\n",
       "      <th>std</th>\n",
       "      <td>188.462426</td>\n",
       "      <td>0.820979</td>\n",
       "      <td>2.147768</td>\n",
       "      <td>3.157692</td>\n",
       "      <td>10.512396</td>\n",
       "      <td>1.433422e+06</td>\n",
       "      <td>1.912729e+07</td>\n",
       "      <td>3.927355e+06</td>\n",
       "      <td>1.977963e+07</td>\n",
       "      <td>2.669459e+07</td>\n",
       "      <td>...</td>\n",
       "      <td>45.085889</td>\n",
       "      <td>36.765769</td>\n",
       "      <td>0.412858</td>\n",
       "      <td>6.378946</td>\n",
       "      <td>0.196973</td>\n",
       "      <td>0.291146</td>\n",
       "      <td>0.335210</td>\n",
       "      <td>1.647757e+06</td>\n",
       "      <td>1.806160</td>\n",
       "      <td>5.842405e+06</td>\n",
       "    </tr>\n",
       "    <tr>\n",
       "      <th>min</th>\n",
       "      <td>2990.000000</td>\n",
       "      <td>0.000000</td>\n",
       "      <td>0.000000</td>\n",
       "      <td>0.000000</td>\n",
       "      <td>0.000000</td>\n",
       "      <td>0.000000e+00</td>\n",
       "      <td>0.000000e+00</td>\n",
       "      <td>0.000000e+00</td>\n",
       "      <td>0.000000e+00</td>\n",
       "      <td>0.000000e+00</td>\n",
       "      <td>...</td>\n",
       "      <td>0.021000</td>\n",
       "      <td>0.000000</td>\n",
       "      <td>0.000000</td>\n",
       "      <td>0.000000</td>\n",
       "      <td>0.048528</td>\n",
       "      <td>0.000000</td>\n",
       "      <td>0.000000</td>\n",
       "      <td>0.000000e+00</td>\n",
       "      <td>0.000000</td>\n",
       "      <td>0.000000e+00</td>\n",
       "    </tr>\n",
       "    <tr>\n",
       "      <th>25%</th>\n",
       "      <td>3358.000000</td>\n",
       "      <td>0.070788</td>\n",
       "      <td>0.000000</td>\n",
       "      <td>0.000000</td>\n",
       "      <td>0.000000</td>\n",
       "      <td>1.400400e+04</td>\n",
       "      <td>6.869740e+05</td>\n",
       "      <td>1.929440e+05</td>\n",
       "      <td>1.368502e+06</td>\n",
       "      <td>4.500730e+05</td>\n",
       "      <td>...</td>\n",
       "      <td>136.191750</td>\n",
       "      <td>87.055500</td>\n",
       "      <td>0.000000</td>\n",
       "      <td>2.020000</td>\n",
       "      <td>0.411672</td>\n",
       "      <td>0.000000</td>\n",
       "      <td>0.000000</td>\n",
       "      <td>7.710079e+01</td>\n",
       "      <td>0.000000</td>\n",
       "      <td>4.560141e-02</td>\n",
       "    </tr>\n",
       "    <tr>\n",
       "      <th>50%</th>\n",
       "      <td>3484.000000</td>\n",
       "      <td>0.267575</td>\n",
       "      <td>0.062000</td>\n",
       "      <td>0.000000</td>\n",
       "      <td>0.000000</td>\n",
       "      <td>1.155330e+05</td>\n",
       "      <td>2.704328e+06</td>\n",
       "      <td>9.639420e+05</td>\n",
       "      <td>5.506295e+06</td>\n",
       "      <td>3.707559e+06</td>\n",
       "      <td>...</td>\n",
       "      <td>150.000000</td>\n",
       "      <td>118.441500</td>\n",
       "      <td>0.220000</td>\n",
       "      <td>5.050000</td>\n",
       "      <td>0.588648</td>\n",
       "      <td>0.000000</td>\n",
       "      <td>0.000000</td>\n",
       "      <td>3.181243e+02</td>\n",
       "      <td>0.000000</td>\n",
       "      <td>1.703996e-01</td>\n",
       "    </tr>\n",
       "    <tr>\n",
       "      <th>75%</th>\n",
       "      <td>3620.000000</td>\n",
       "      <td>0.719512</td>\n",
       "      <td>1.282000</td>\n",
       "      <td>0.000000</td>\n",
       "      <td>0.000000</td>\n",
       "      <td>5.259280e+05</td>\n",
       "      <td>6.993831e+06</td>\n",
       "      <td>3.751516e+06</td>\n",
       "      <td>1.694552e+07</td>\n",
       "      <td>1.326101e+07</td>\n",
       "      <td>...</td>\n",
       "      <td>167.754000</td>\n",
       "      <td>137.496750</td>\n",
       "      <td>0.628573</td>\n",
       "      <td>10.100000</td>\n",
       "      <td>0.753840</td>\n",
       "      <td>0.000000</td>\n",
       "      <td>0.000000</td>\n",
       "      <td>1.153022e+03</td>\n",
       "      <td>1.181754</td>\n",
       "      <td>4.993370e-01</td>\n",
       "    </tr>\n",
       "    <tr>\n",
       "      <th>max</th>\n",
       "      <td>3900.000000</td>\n",
       "      <td>18.015050</td>\n",
       "      <td>57.371600</td>\n",
       "      <td>91.672200</td>\n",
       "      <td>407.748600</td>\n",
       "      <td>5.313546e+07</td>\n",
       "      <td>2.158794e+09</td>\n",
       "      <td>1.037397e+08</td>\n",
       "      <td>3.200533e+08</td>\n",
       "      <td>2.191361e+09</td>\n",
       "      <td>...</td>\n",
       "      <td>645.450000</td>\n",
       "      <td>255.000000</td>\n",
       "      <td>2.200000</td>\n",
       "      <td>91.910000</td>\n",
       "      <td>0.800000</td>\n",
       "      <td>5.000000</td>\n",
       "      <td>5.000000</td>\n",
       "      <td>5.321014e+07</td>\n",
       "      <td>28.000000</td>\n",
       "      <td>2.307571e+08</td>\n",
       "    </tr>\n",
       "  </tbody>\n",
       "</table>\n",
       "<p>8 rows × 49 columns</p>\n",
       "</div>"
      ],
      "text/plain": [
       "        form_field1   form_field2   form_field3   form_field4   form_field5  \\\n",
       "count  53471.000000  52156.000000  55645.000000  55645.000000  55645.000000   \n",
       "mean    3491.795665      0.550737      1.052225      0.851979      1.956317   \n",
       "std      188.462426      0.820979      2.147768      3.157692     10.512396   \n",
       "min     2990.000000      0.000000      0.000000      0.000000      0.000000   \n",
       "25%     3358.000000      0.070788      0.000000      0.000000      0.000000   \n",
       "50%     3484.000000      0.267575      0.062000      0.000000      0.000000   \n",
       "75%     3620.000000      0.719512      1.282000      0.000000      0.000000   \n",
       "max     3900.000000     18.015050     57.371600     91.672200    407.748600   \n",
       "\n",
       "        form_field6   form_field7   form_field8   form_field9  form_field10  \\\n",
       "count  4.264000e+04  5.083700e+04  4.264000e+04  4.799200e+04  5.564500e+04   \n",
       "mean   6.244479e+05  6.865210e+06  2.626690e+06  1.316002e+07  1.185585e+07   \n",
       "std    1.433422e+06  1.912729e+07  3.927355e+06  1.977963e+07  2.669459e+07   \n",
       "min    0.000000e+00  0.000000e+00  0.000000e+00  0.000000e+00  0.000000e+00   \n",
       "25%    1.400400e+04  6.869740e+05  1.929440e+05  1.368502e+06  4.500730e+05   \n",
       "50%    1.155330e+05  2.704328e+06  9.639420e+05  5.506295e+06  3.707559e+06   \n",
       "75%    5.259280e+05  6.993831e+06  3.751516e+06  1.694552e+07  1.326101e+07   \n",
       "max    5.313546e+07  2.158794e+09  1.037397e+08  3.200533e+08  2.191361e+09   \n",
       "\n",
       "       ...  form_field40  form_field41  form_field42  form_field43  \\\n",
       "count  ...  12271.000000  17771.000000  54677.000000  55432.000000   \n",
       "mean   ...    147.797977    108.117363      0.368215      6.634511   \n",
       "std    ...     45.085889     36.765769      0.412858      6.378946   \n",
       "min    ...      0.021000      0.000000      0.000000      0.000000   \n",
       "25%    ...    136.191750     87.055500      0.000000      2.020000   \n",
       "50%    ...    150.000000    118.441500      0.220000      5.050000   \n",
       "75%    ...    167.754000    137.496750      0.628573     10.100000   \n",
       "max    ...    645.450000    255.000000      2.200000     91.910000   \n",
       "\n",
       "       form_field44  form_field45  form_field46  form_field48  form_field49  \\\n",
       "count  50617.000000  24683.000000  40096.000000  3.511100e+04  55645.000000   \n",
       "mean       0.563377      0.072520      0.095371  3.052449e+05      1.049061   \n",
       "std        0.196973      0.291146      0.335210  1.647757e+06      1.806160   \n",
       "min        0.048528      0.000000      0.000000  0.000000e+00      0.000000   \n",
       "25%        0.411672      0.000000      0.000000  7.710079e+01      0.000000   \n",
       "50%        0.588648      0.000000      0.000000  3.181243e+02      0.000000   \n",
       "75%        0.753840      0.000000      0.000000  1.153022e+03      1.181754   \n",
       "max        0.800000      5.000000      5.000000  5.321014e+07     28.000000   \n",
       "\n",
       "       form_field50  \n",
       "count  4.494400e+04  \n",
       "mean   6.005862e+05  \n",
       "std    5.842405e+06  \n",
       "min    0.000000e+00  \n",
       "25%    4.560141e-02  \n",
       "50%    1.703996e-01  \n",
       "75%    4.993370e-01  \n",
       "max    2.307571e+08  \n",
       "\n",
       "[8 rows x 49 columns]"
      ]
     },
     "execution_count": 8,
     "metadata": {},
     "output_type": "execute_result"
    }
   ],
   "source": [
    "kowope_analysis.describe()"
   ]
  },
  {
   "cell_type": "code",
   "execution_count": 9,
   "metadata": {},
   "outputs": [
    {
     "data": {
      "text/plain": [
       "Applicant_ID       object\n",
       "form_field1       float64\n",
       "form_field2       float64\n",
       "form_field3       float64\n",
       "form_field4       float64\n",
       "form_field5       float64\n",
       "form_field6       float64\n",
       "form_field7       float64\n",
       "form_field8       float64\n",
       "form_field9       float64\n",
       "form_field10      float64\n",
       "form_field11      float64\n",
       "form_field12      float64\n",
       "form_field13      float64\n",
       "form_field14        int64\n",
       "form_field15      float64\n",
       "form_field16      float64\n",
       "form_field17      float64\n",
       "form_field18      float64\n",
       "form_field19      float64\n",
       "form_field20      float64\n",
       "form_field21      float64\n",
       "form_field22      float64\n",
       "form_field23      float64\n",
       "form_field24      float64\n",
       "form_field25      float64\n",
       "form_field26      float64\n",
       "form_field27      float64\n",
       "form_field28      float64\n",
       "form_field29      float64\n",
       "form_field30      float64\n",
       "form_field31      float64\n",
       "form_field32      float64\n",
       "form_field33      float64\n",
       "form_field34      float64\n",
       "form_field35      float64\n",
       "form_field36      float64\n",
       "form_field37      float64\n",
       "form_field38      float64\n",
       "form_field39      float64\n",
       "form_field40      float64\n",
       "form_field41      float64\n",
       "form_field42      float64\n",
       "form_field43      float64\n",
       "form_field44      float64\n",
       "form_field45      float64\n",
       "form_field46      float64\n",
       "form_field47       object\n",
       "form_field48      float64\n",
       "form_field49      float64\n",
       "form_field50      float64\n",
       "default_status     object\n",
       "dtype: object"
      ]
     },
     "execution_count": 9,
     "metadata": {},
     "output_type": "execute_result"
    }
   ],
   "source": [
    "#check the column data types\n",
    "kowope_analysis.dtypes"
   ]
  },
  {
   "cell_type": "code",
   "execution_count": 10,
   "metadata": {},
   "outputs": [],
   "source": [
    "# we will fill missing data with median values for location codes and mean values for the other columns\n",
    "kowope_analysis[['form_field1','form_field2','form_field3','form_field4','form_field5','form_field6','form_field7','form_field8','form_field9','form_field10','form_field11','form_field12','form_field13','form_field15','form_field16','form_field17','form_field18','form_field19','form_field20','form_field21','form_field22','form_field23','form_field24','form_field25','form_field26','form_field27','form_field28','form_field29','form_field30','form_field31','form_field32','form_field33','form_field34','form_field35','form_field36','form_field37','form_field38','form_field39','form_field40','form_field41','form_field42','form_field43','form_field44','form_field45','form_field46','form_field48','form_field49','form_field50']]=kowope_analysis[['form_field1','form_field2','form_field3','form_field4','form_field5','form_field6','form_field7','form_field8','form_field9','form_field10','form_field11','form_field12','form_field13','form_field15','form_field16','form_field17','form_field18','form_field19','form_field20','form_field21','form_field22','form_field23','form_field24','form_field25','form_field26','form_field27','form_field28','form_field29','form_field30','form_field31','form_field32','form_field33','form_field34','form_field35','form_field36','form_field37','form_field38','form_field39','form_field40','form_field41','form_field42','form_field43','form_field44','form_field45','form_field46','form_field48','form_field49','form_field50']].fillna(kowope_analysis[['form_field1','form_field2','form_field3','form_field4','form_field5','form_field6','form_field7','form_field8','form_field9','form_field10','form_field11','form_field12','form_field13','form_field15','form_field16','form_field17','form_field18','form_field19','form_field20','form_field21','form_field22','form_field23','form_field24','form_field25','form_field26','form_field27','form_field28','form_field29','form_field30','form_field31','form_field32','form_field33','form_field34','form_field35','form_field36','form_field37','form_field38','form_field39','form_field40','form_field41','form_field42','form_field43','form_field44','form_field45','form_field46','form_field48','form_field49','form_field50']].mean())"
   ]
  },
  {
   "cell_type": "code",
   "execution_count": 11,
   "metadata": {},
   "outputs": [
    {
     "name": "stdout",
     "output_type": "stream",
     "text": [
      "<class 'pandas.core.frame.DataFrame'>\n",
      "RangeIndex: 56000 entries, 0 to 55999\n",
      "Data columns (total 52 columns):\n",
      " #   Column          Non-Null Count  Dtype  \n",
      "---  ------          --------------  -----  \n",
      " 0   Applicant_ID    56000 non-null  object \n",
      " 1   form_field1     56000 non-null  float64\n",
      " 2   form_field2     56000 non-null  float64\n",
      " 3   form_field3     56000 non-null  float64\n",
      " 4   form_field4     56000 non-null  float64\n",
      " 5   form_field5     56000 non-null  float64\n",
      " 6   form_field6     56000 non-null  float64\n",
      " 7   form_field7     56000 non-null  float64\n",
      " 8   form_field8     56000 non-null  float64\n",
      " 9   form_field9     56000 non-null  float64\n",
      " 10  form_field10    56000 non-null  float64\n",
      " 11  form_field11    56000 non-null  float64\n",
      " 12  form_field12    56000 non-null  float64\n",
      " 13  form_field13    56000 non-null  float64\n",
      " 14  form_field14    56000 non-null  int64  \n",
      " 15  form_field15    56000 non-null  float64\n",
      " 16  form_field16    56000 non-null  float64\n",
      " 17  form_field17    56000 non-null  float64\n",
      " 18  form_field18    56000 non-null  float64\n",
      " 19  form_field19    56000 non-null  float64\n",
      " 20  form_field20    56000 non-null  float64\n",
      " 21  form_field21    56000 non-null  float64\n",
      " 22  form_field22    56000 non-null  float64\n",
      " 23  form_field23    56000 non-null  float64\n",
      " 24  form_field24    56000 non-null  float64\n",
      " 25  form_field25    56000 non-null  float64\n",
      " 26  form_field26    56000 non-null  float64\n",
      " 27  form_field27    56000 non-null  float64\n",
      " 28  form_field28    56000 non-null  float64\n",
      " 29  form_field29    56000 non-null  float64\n",
      " 30  form_field30    56000 non-null  float64\n",
      " 31  form_field31    56000 non-null  float64\n",
      " 32  form_field32    56000 non-null  float64\n",
      " 33  form_field33    56000 non-null  float64\n",
      " 34  form_field34    56000 non-null  float64\n",
      " 35  form_field35    56000 non-null  float64\n",
      " 36  form_field36    56000 non-null  float64\n",
      " 37  form_field37    56000 non-null  float64\n",
      " 38  form_field38    56000 non-null  float64\n",
      " 39  form_field39    56000 non-null  float64\n",
      " 40  form_field40    56000 non-null  float64\n",
      " 41  form_field41    56000 non-null  float64\n",
      " 42  form_field42    56000 non-null  float64\n",
      " 43  form_field43    56000 non-null  float64\n",
      " 44  form_field44    56000 non-null  float64\n",
      " 45  form_field45    56000 non-null  float64\n",
      " 46  form_field46    56000 non-null  float64\n",
      " 47  form_field47    56000 non-null  object \n",
      " 48  form_field48    56000 non-null  float64\n",
      " 49  form_field49    56000 non-null  float64\n",
      " 50  form_field50    56000 non-null  float64\n",
      " 51  default_status  56000 non-null  object \n",
      "dtypes: float64(48), int64(1), object(3)\n",
      "memory usage: 22.2+ MB\n"
     ]
    }
   ],
   "source": [
    "kowope_analysis.info()"
   ]
  },
  {
   "cell_type": "code",
   "execution_count": 12,
   "metadata": {},
   "outputs": [
    {
     "name": "stderr",
     "output_type": "stream",
     "text": [
      "C:\\Users\\ANGEL GAD\\Anaconda3\\lib\\site-packages\\seaborn\\distributions.py:2551: FutureWarning: `distplot` is a deprecated function and will be removed in a future version. Please adapt your code to use either `displot` (a figure-level function with similar flexibility) or `histplot` (an axes-level function for histograms).\n",
      "  warnings.warn(msg, FutureWarning)\n"
     ]
    },
    {
     "data": {
      "text/plain": [
       "<AxesSubplot:xlabel='form_field1'>"
      ]
     },
     "execution_count": 12,
     "metadata": {},
     "output_type": "execute_result"
    },
    {
     "data": {
      "image/png": "[encoded data removed]",
      "text/plain": [
       "<Figure size 432x288 with 1 Axes>"
      ]
     },
     "metadata": {
      "needs_background": "light"
     },
     "output_type": "display_data"
    }
   ],
   "source": [
    "sns.distplot(kowope_analysis['form_field1'],kde=False,bins=30)\n",
    "# Safe to ignore warnings"
   ]
  },
  {
   "cell_type": "markdown",
   "metadata": {},
   "source": [
    "In the above distribution plot we can infer from the graph that people with credit score of around 3,500 are the most occuring"
   ]
  },
  {
   "cell_type": "code",
   "execution_count": 13,
   "metadata": {},
   "outputs": [
    {
     "data": {
      "text/plain": [
       "<AxesSubplot:xlabel='default_status', ylabel='count'>"
      ]
     },
     "execution_count": 13,
     "metadata": {},
     "output_type": "execute_result"
    },
    {
     "data": {
      "image/png": "[encoded data removed]",
      "text/plain": [
       "<Figure size 432x288 with 1 Axes>"
      ]
     },
     "metadata": {
      "needs_background": "light"
     },
     "output_type": "display_data"
    }
   ],
   "source": [
    "sns.countplot(x='default_status',data=kowope_analysis)"
   ]
  },
  {
   "cell_type": "markdown",
   "metadata": {},
   "source": [
    "In the above countplot we can infer that there were less defaulters than non defaulters"
   ]
  },
  {
   "cell_type": "code",
   "execution_count": 14,
   "metadata": {},
   "outputs": [
    {
     "data": {
      "text/plain": [
       "<AxesSubplot:xlabel='default_status', ylabel='form_field1'>"
      ]
     },
     "execution_count": 14,
     "metadata": {},
     "output_type": "execute_result"
    },
    {
     "data": {
      "image/png": "[encoded data removed]",
      "text/plain": [
       "<Figure size 432x288 with 1 Axes>"
      ]
     },
     "metadata": {
      "needs_background": "light"
     },
     "output_type": "display_data"
    }
   ],
   "source": [
    "sns.boxplot(y=\"form_field1\", x=\"default_status\",hue='form_field47', data=kowope_analysis,palette='rainbow')"
   ]
  },
  {
   "cell_type": "markdown",
   "metadata": {},
   "source": [
    "Plotting a box plot to check the relationship between the credit score and default status we can infer from the graph that the people with higher credit score did not default compared to the people with low credit score for both the lending and charge product type."
   ]
  },
  {
   "cell_type": "code",
   "execution_count": 15,
   "metadata": {},
   "outputs": [
    {
     "name": "stderr",
     "output_type": "stream",
     "text": [
      "C:\\Users\\ANGEL GAD\\Anaconda3\\lib\\site-packages\\seaborn\\distributions.py:2551: FutureWarning: `distplot` is a deprecated function and will be removed in a future version. Please adapt your code to use either `displot` (a figure-level function with similar flexibility) or `histplot` (an axes-level function for histograms).\n",
      "  warnings.warn(msg, FutureWarning)\n"
     ]
    },
    {
     "data": {
      "text/plain": [
       "<AxesSubplot:xlabel='form_field2'>"
      ]
     },
     "execution_count": 15,
     "metadata": {},
     "output_type": "execute_result"
    },
    {
     "data": {
      "image/png": "[encoded data removed]",
      "text/plain": [
       "<Figure size 432x288 with 1 Axes>"
      ]
     },
     "metadata": {
      "needs_background": "light"
     },
     "output_type": "display_data"
    }
   ],
   "source": [
    "sns.distplot(kowope_analysis['form_field2'],kde=False,bins=30)\n",
    "# Safe to ignore warnings"
   ]
  },
  {
   "cell_type": "markdown",
   "metadata": {},
   "source": [
    "From the above distribution plot it can be infered that the risk level of the customers that made enquiries about borrowing has a low risk level."
   ]
  },
  {
   "cell_type": "code",
   "execution_count": 16,
   "metadata": {},
   "outputs": [
    {
     "data": {
      "text/plain": [
       "<AxesSubplot:xlabel='default_status', ylabel='form_field2'>"
      ]
     },
     "execution_count": 16,
     "metadata": {},
     "output_type": "execute_result"
    },
    {
     "data": {
      "image/png": "[encoded data removed]",
      "text/plain": [
       "<Figure size 432x288 with 1 Axes>"
      ]
     },
     "metadata": {
      "needs_background": "light"
     },
     "output_type": "display_data"
    }
   ],
   "source": [
    "sns.boxplot(y=\"form_field2\", x=\"default_status\",hue='form_field47', data=kowope_analysis,palette='rainbow')"
   ]
  },
  {
   "cell_type": "markdown",
   "metadata": {},
   "source": [
    "It can be infered from the plot above that the higher the risk level the higher the chances of a customer to default payment for both charge and lending product type,although from the plot before this one we could see that even thou the rish level were low but this low levels still show that they can still default."
   ]
  },
  {
   "cell_type": "code",
   "execution_count": 17,
   "metadata": {},
   "outputs": [
    {
     "data": {
      "text/plain": [
       "<AxesSubplot:xlabel='default_status', ylabel='form_field3'>"
      ]
     },
     "execution_count": 17,
     "metadata": {},
     "output_type": "execute_result"
    },
    {
     "data": {
      "image/png": "[encoded data removed]",
      "text/plain": [
       "<Figure size 432x288 with 1 Axes>"
      ]
     },
     "metadata": {
      "needs_background": "light"
     },
     "output_type": "display_data"
    }
   ],
   "source": [
    "sns.barplot(y='form_field3',x='default_status',hue='form_field47',data=kowope_analysis)"
   ]
  },
  {
   "cell_type": "markdown",
   "metadata": {},
   "source": [
    "It can be infered from the above plot that the higher the severity(function of amount, time since default, and number of defaults), The higher the chances of a customer to default for both the customer that was charged instantly and the  product type that was lended"
   ]
  },
  {
   "cell_type": "code",
   "execution_count": 18,
   "metadata": {},
   "outputs": [
    {
     "data": {
      "text/plain": [
       "<AxesSubplot:xlabel='default_status', ylabel='form_field4'>"
      ]
     },
     "execution_count": 18,
     "metadata": {},
     "output_type": "execute_result"
    },
    {
     "data": {
      "image/png": "[encoded data removed]",
      "text/plain": [
       "<Figure size 432x288 with 1 Axes>"
      ]
     },
     "metadata": {
      "needs_background": "light"
     },
     "output_type": "display_data"
    }
   ],
   "source": [
    "sns.barplot(y='form_field4',x='default_status',hue='form_field47',data=kowope_analysis)"
   ]
  },
  {
   "cell_type": "markdown",
   "metadata": {},
   "source": [
    "From the plot above we can see that the Severity of default by the borrower on auto loan(s) is higher for defaulters that non defaulters for both the charged and lending product type, So i would advise kowope mart to maybe reduce the auto loans that they give because they the number of defaulters are really high for the two product type(charge,lending)"
   ]
  },
  {
   "cell_type": "code",
   "execution_count": 19,
   "metadata": {},
   "outputs": [
    {
     "data": {
      "text/plain": [
       "<AxesSubplot:xlabel='default_status', ylabel='form_field5'>"
      ]
     },
     "execution_count": 19,
     "metadata": {},
     "output_type": "execute_result"
    },
    {
     "data": {
      "image/png": "[encoded data removed]",
      "text/plain": [
       "<Figure size 432x288 with 1 Axes>"
      ]
     },
     "metadata": {
      "needs_background": "light"
     },
     "output_type": "display_data"
    }
   ],
   "source": [
    "sns.barplot(y='form_field5',x='default_status',hue='form_field47',data=kowope_analysis)"
   ]
  },
  {
   "cell_type": "markdown",
   "metadata": {},
   "source": [
    "From the plot above we can see that the Severity of default by the borrower on educational loan(s) is higher for defaulters that non defaulters for both the charged and lending product type, So i would advise kowope mart to maybe reduce educational loans aswell that they give because they the number of defaulters are really high for the two product type(charge,lending)"
   ]
  },
  {
   "cell_type": "code",
   "execution_count": 20,
   "metadata": {},
   "outputs": [
    {
     "name": "stderr",
     "output_type": "stream",
     "text": [
      "C:\\Users\\ANGEL GAD\\Anaconda3\\lib\\site-packages\\seaborn\\distributions.py:2551: FutureWarning: `distplot` is a deprecated function and will be removed in a future version. Please adapt your code to use either `displot` (a figure-level function with similar flexibility) or `histplot` (an axes-level function for histograms).\n",
      "  warnings.warn(msg, FutureWarning)\n"
     ]
    },
    {
     "data": {
      "text/plain": [
       "<AxesSubplot:xlabel='form_field6'>"
      ]
     },
     "execution_count": 20,
     "metadata": {},
     "output_type": "execute_result"
    },
    {
     "data": {
      "image/png": "[encoded data removed]",
      "text/plain": [
       "<Figure size 432x288 with 1 Axes>"
      ]
     },
     "metadata": {
      "needs_background": "light"
     },
     "output_type": "display_data"
    }
   ],
   "source": [
    "sns.distplot(kowope_analysis['form_field6'],kde=False,bins=30)\n",
    "# Safe to ignore warnings"
   ]
  },
  {
   "cell_type": "markdown",
   "metadata": {},
   "source": [
    "It can be infered from the graph that the minimum of the credit score available on all credit cards of the customers ranges from 0-to about 1.2 and also there are a lot of customers with minimun credit score especially at zero"
   ]
  },
  {
   "cell_type": "code",
   "execution_count": 21,
   "metadata": {},
   "outputs": [
    {
     "data": {
      "text/plain": [
       "<AxesSubplot:xlabel='form_field7'>"
      ]
     },
     "execution_count": 21,
     "metadata": {},
     "output_type": "execute_result"
    },
    {
     "data": {
      "image/png": "[encoded data removed]",
      "text/plain": [
       "<Figure size 432x288 with 1 Axes>"
      ]
     },
     "metadata": {
      "needs_background": "light"
     },
     "output_type": "display_data"
    }
   ],
   "source": [
    "sns.distplot(kowope_analysis['form_field7'],kde=False,bins=30)\n",
    "# Safe to ignore warnings"
   ]
  },
  {
   "cell_type": "code",
   "execution_count": 23,
   "metadata": {},
   "outputs": [
    {
     "data": {
      "text/plain": [
       "2158794400.0"
      ]
     },
     "execution_count": 23,
     "metadata": {},
     "output_type": "execute_result"
    }
   ],
   "source": [
    "kowope_analysis['form_field7'].max()"
   ]
  },
  {
   "cell_type": "code",
   "execution_count": 24,
   "metadata": {},
   "outputs": [],
   "source": [
    "group=kowope_analysis.groupby('form_field47')"
   ]
  },
  {
   "cell_type": "code",
   "execution_count": 26,
   "metadata": {},
   "outputs": [
    {
     "data": {
      "text/plain": [
       "form_field47\n",
       "charge     7.497956e+08\n",
       "lending    2.158794e+09\n",
       "Name: form_field7, dtype: float64"
      ]
     },
     "execution_count": 26,
     "metadata": {},
     "output_type": "execute_result"
    }
   ],
   "source": [
    "group.max()['form_field7']"
   ]
  },
  {
   "cell_type": "markdown",
   "metadata": {},
   "source": [
    "It can be infered from the graph that thou the maximum of the credit score is N2158794400.0, and for the varios customer type(charge max field is 7.497956e+08 and lend max field is 2.158794e+09 ) available on a particular credit cards of the customers, but most  are more ranges from 0-to about0.1 and also there are a lot of customers with maximum credit score especially at zero,Maybe Kowepe Mart should increase its credit limit"
   ]
  },
  {
   "cell_type": "code",
   "execution_count": 27,
   "metadata": {},
   "outputs": [
    {
     "name": "stderr",
     "output_type": "stream",
     "text": [
      "C:\\Users\\ANGEL GAD\\Anaconda3\\lib\\site-packages\\seaborn\\distributions.py:2551: FutureWarning: `distplot` is a deprecated function and will be removed in a future version. Please adapt your code to use either `displot` (a figure-level function with similar flexibility) or `histplot` (an axes-level function for histograms).\n",
      "  warnings.warn(msg, FutureWarning)\n"
     ]
    },
    {
     "data": {
      "text/plain": [
       "<AxesSubplot:xlabel='form_field8'>"
      ]
     },
     "execution_count": 27,
     "metadata": {},
     "output_type": "execute_result"
    },
    {
     "data": {
      "image/png": "[encoded data removed]",
      "text/plain": [
       "<Figure size 432x288 with 1 Axes>"
      ]
     },
     "metadata": {
      "needs_background": "light"
     },
     "output_type": "display_data"
    }
   ],
   "source": [
    "sns.distplot(kowope_analysis['form_field8'],kde=False,bins=30)\n",
    "# Safe to ignore warnings"
   ]
  },
  {
   "cell_type": "code",
   "execution_count": 28,
   "metadata": {},
   "outputs": [
    {
     "data": {
      "text/plain": [
       "103739687.0"
      ]
     },
     "execution_count": 28,
     "metadata": {},
     "output_type": "execute_result"
    }
   ],
   "source": [
    "kowope_analysis['form_field8'].max()"
   ]
  },
  {
   "cell_type": "code",
   "execution_count": 29,
   "metadata": {},
   "outputs": [],
   "source": [
    "group=kowope_analysis.groupby('form_field47')"
   ]
  },
  {
   "cell_type": "code",
   "execution_count": 30,
   "metadata": {},
   "outputs": [
    {
     "data": {
      "text/plain": [
       "form_field47\n",
       "charge     102293774.0\n",
       "lending    103739687.0\n",
       "Name: form_field8, dtype: float64"
      ]
     },
     "execution_count": 30,
     "metadata": {},
     "output_type": "execute_result"
    }
   ],
   "source": [
    "group.max()['form_field8']"
   ]
  },
  {
   "cell_type": "markdown",
   "metadata": {},
   "source": [
    "It can be infered from the graph that thou the maximum of the credit score of the  maximum of credit available on all active credit cards that is automatically renewed as debts are paid off on the customer’s cards (in NGN) is N103739687.0, and for the varios customer type(charge max field is 102293774.0 and lend max field is 103739687.0 ) available on a particular credit cards of the customers, but most  are more ranges from 0-to about 0.21 and also there are a lot of customers with maximum credit score especially at zero,Maybe Kowepe Mart should increase its credit limit"
   ]
  },
  {
   "cell_type": "code",
   "execution_count": 32,
   "metadata": {},
   "outputs": [
    {
     "data": {
      "text/plain": [
       "<seaborn.axisgrid.FacetGrid at 0x1d2b4377bb0>"
      ]
     },
     "execution_count": 32,
     "metadata": {},
     "output_type": "execute_result"
    },
    {
     "data": {
      "image/png": "[encoded data removed]",
      "text/plain": [
       "<Figure size 720x360 with 2 Axes>"
      ]
     },
     "metadata": {
      "needs_background": "light"
     },
     "output_type": "display_data"
    }
   ],
   "source": [
    "sns.lmplot(x='form_field9',y='form_field14',data=kowope_analysis,col='form_field47')"
   ]
  },
  {
   "cell_type": "markdown",
   "metadata": {},
   "source": [
    "From the plot above we can infere that the Sum of available credit on credit cards that the borrower has missed 1 payment (in NGN) to the Annual income (in NGN) we can see that people with high income have low Sum of available credit on credit cards that the borrower has missed 1 payment for the charge product type compared to the lending product type,but for most of the data there was no relationship between the Sum of available credit on credit cards that the borrower has missed 1 payment and income.But most customers with low income has missed payments"
   ]
  },
  {
   "cell_type": "code",
   "execution_count": 33,
   "metadata": {},
   "outputs": [
    {
     "data": {
      "text/plain": [
       "<seaborn.axisgrid.FacetGrid at 0x1d2b443e460>"
      ]
     },
     "execution_count": 33,
     "metadata": {},
     "output_type": "execute_result"
    },
    {
     "data": {
      "image/png": "[encoded data removed]",
      "text/plain": [
       "<Figure size 720x360 with 2 Axes>"
      ]
     },
     "metadata": {
      "needs_background": "light"
     },
     "output_type": "display_data"
    }
   ],
   "source": [
    "sns.lmplot(x='form_field10',y='form_field14',data=kowope_analysis,col='form_field47')"
   ]
  },
  {
   "cell_type": "markdown",
   "metadata": {},
   "source": [
    "From the plot above we can infere that the Total amount of credit available on accepted credit lines (in NGN) to the Annual income (in NGN) we can see that people with high income have the most amount of available credit on credit cards for the charge product type compared to the lending product type,but for most of the data there was no relationship between the credit available on credit lines and income.But most customers with low income has missed payments"
   ]
  },
  {
   "cell_type": "code",
   "execution_count": 34,
   "metadata": {},
   "outputs": [
    {
     "name": "stderr",
     "output_type": "stream",
     "text": [
      "C:\\Users\\ANGEL GAD\\Anaconda3\\lib\\site-packages\\seaborn\\distributions.py:2551: FutureWarning: `distplot` is a deprecated function and will be removed in a future version. Please adapt your code to use either `displot` (a figure-level function with similar flexibility) or `histplot` (an axes-level function for histograms).\n",
      "  warnings.warn(msg, FutureWarning)\n"
     ]
    },
    {
     "data": {
      "text/plain": [
       "<AxesSubplot:xlabel='form_field11'>"
      ]
     },
     "execution_count": 34,
     "metadata": {},
     "output_type": "execute_result"
    },
    {
     "data": {
      "image/png": "[encoded data removed]",
      "text/plain": [
       "<Figure size 432x288 with 1 Axes>"
      ]
     },
     "metadata": {
      "needs_background": "light"
     },
     "output_type": "display_data"
    }
   ],
   "source": [
    "sns.distplot(kowope_analysis['form_field11'],kde=False,bins=30)\n",
    "# Safe to ignore warnings"
   ]
  },
  {
   "cell_type": "markdown",
   "metadata": {},
   "source": [
    "We can infer from the plot that the the amount of dues collected post-default where the due amount was more than 500 (in NGN) is relatively high for a minute dataset of about 0.01-0.23%"
   ]
  },
  {
   "cell_type": "code",
   "execution_count": 35,
   "metadata": {},
   "outputs": [
    {
     "data": {
      "text/plain": [
       "<seaborn.axisgrid.FacetGrid at 0x1d2b48a42b0>"
      ]
     },
     "execution_count": 35,
     "metadata": {},
     "output_type": "execute_result"
    },
    {
     "data": {
      "image/png": "[encoded data removed]",
      "text/plain": [
       "<Figure size 720x360 with 2 Axes>"
      ]
     },
     "metadata": {
      "needs_background": "light"
     },
     "output_type": "display_data"
    }
   ],
   "source": [
    "sns.lmplot(x='form_field12',y='form_field14',data=kowope_analysis,col='form_field47')"
   ]
  },
  {
   "cell_type": "markdown",
   "metadata": {},
   "source": [
    "In the above graph i really want to see the trend between the income of customers and the Sum of the amount due on active credit cards (in NGN),maybe the people that have high income would not have any amount due on thier credit card which should be the norm right?,This trend actually follows the data has we can see data points of high income to low amount due on active credit card(but this trend is more in the charge product type than the lending product type)."
   ]
  },
  {
   "cell_type": "code",
   "execution_count": 36,
   "metadata": {},
   "outputs": [
    {
     "data": {
      "text/plain": [
       "<seaborn.axisgrid.FacetGrid at 0x1d2b4999220>"
      ]
     },
     "execution_count": 36,
     "metadata": {},
     "output_type": "execute_result"
    },
    {
     "data": {
      "image/png": "[encoded data removed]",
      "text/plain": [
       "<Figure size 720x360 with 2 Axes>"
      ]
     },
     "metadata": {
      "needs_background": "light"
     },
     "output_type": "display_data"
    }
   ],
   "source": [
    "sns.lmplot(x='form_field13',y='form_field14',data=kowope_analysis,col='form_field47')"
   ]
  },
  {
   "cell_type": "markdown",
   "metadata": {},
   "source": [
    "This is quite an important intuition,checking to see if the customers income affect the amount paid towards all credit cards,and the conclusion is somewhat obvious has people with high income require less to use a credit card than people with low income.The high earners had low amount paid towards credit cards because they would need this service much for both charge and lending but its occurs more in the charge type"
   ]
  },
  {
   "cell_type": "code",
   "execution_count": 37,
   "metadata": {},
   "outputs": [
    {
     "name": "stderr",
     "output_type": "stream",
     "text": [
      "C:\\Users\\ANGEL GAD\\Anaconda3\\lib\\site-packages\\seaborn\\distributions.py:2551: FutureWarning: `distplot` is a deprecated function and will be removed in a future version. Please adapt your code to use either `displot` (a figure-level function with similar flexibility) or `histplot` (an axes-level function for histograms).\n",
      "  warnings.warn(msg, FutureWarning)\n"
     ]
    },
    {
     "data": {
      "text/plain": [
       "<AxesSubplot:xlabel='form_field15'>"
      ]
     },
     "execution_count": 37,
     "metadata": {},
     "output_type": "execute_result"
    },
    {
     "data": {
      "image/png": "[encoded data removed]",
      "text/plain": [
       "<Figure size 432x288 with 1 Axes>"
      ]
     },
     "metadata": {
      "needs_background": "light"
     },
     "output_type": "display_data"
    }
   ],
   "source": [
    "sns.distplot(kowope_analysis['form_field15'],kde=False,bins=30)\n",
    "# Safe to ignore warnings"
   ]
  },
  {
   "cell_type": "code",
   "execution_count": 38,
   "metadata": {},
   "outputs": [
    {
     "data": {
      "text/plain": [
       "0.000000     35943\n",
       "0.230425     13036\n",
       "1.000000      5123\n",
       "2.000000      1290\n",
       "3.000000       383\n",
       "4.000000       139\n",
       "5.000000        50\n",
       "6.000000        23\n",
       "7.000000         8\n",
       "11.000000        2\n",
       "8.000000         2\n",
       "10.000000        1\n",
       "Name: form_field16, dtype: int64"
      ]
     },
     "execution_count": 38,
     "metadata": {},
     "output_type": "execute_result"
    }
   ],
   "source": [
    "kowope_analysis['form_field16'].value_counts()"
   ]
  },
  {
   "cell_type": "code",
   "execution_count": 39,
   "metadata": {},
   "outputs": [
    {
     "data": {
      "text/plain": [
       "11.0"
      ]
     },
     "execution_count": 39,
     "metadata": {},
     "output_type": "execute_result"
    }
   ],
   "source": [
    "kowope_analysis['form_field16'].max()"
   ]
  },
  {
   "cell_type": "markdown",
   "metadata": {},
   "source": [
    "The maximum number of active credit cards on which full credit limit is utilized by the borrower is N11, which 2 people has"
   ]
  },
  {
   "cell_type": "code",
   "execution_count": 42,
   "metadata": {},
   "outputs": [
    {
     "data": {
      "text/plain": [
       "16"
      ]
     },
     "execution_count": 42,
     "metadata": {},
     "output_type": "execute_result"
    }
   ],
   "source": [
    "kowope_analysis['form_field17'].nunique()"
   ]
  },
  {
   "cell_type": "code",
   "execution_count": 44,
   "metadata": {},
   "outputs": [
    {
     "data": {
      "text/plain": [
       "0.000000     36859\n",
       "0.265692     11151\n",
       "1.000000      5653\n",
       "2.000000      1488\n",
       "3.000000       489\n",
       "4.000000       193\n",
       "5.000000        87\n",
       "6.000000        29\n",
       "7.000000        23\n",
       "8.000000        11\n",
       "9.000000         6\n",
       "10.000000        4\n",
       "11.000000        3\n",
       "13.000000        2\n",
       "21.000000        1\n",
       "16.000000        1\n",
       "Name: form_field17, dtype: int64"
      ]
     },
     "execution_count": 44,
     "metadata": {},
     "output_type": "execute_result"
    }
   ],
   "source": [
    "kowope_analysis['form_field17'].value_counts()"
   ]
  },
  {
   "cell_type": "code",
   "execution_count": 45,
   "metadata": {},
   "outputs": [
    {
     "data": {
      "text/plain": [
       "21.0"
      ]
     },
     "execution_count": 45,
     "metadata": {},
     "output_type": "execute_result"
    }
   ],
   "source": [
    "kowope_analysis['form_field17'].max()"
   ]
  },
  {
   "cell_type": "markdown",
   "metadata": {},
   "source": [
    "the maximum number of active credit lines on which full credit limit is utilized by the borrower is N21 for one person ,and it has 16 unique features"
   ]
  },
  {
   "cell_type": "code",
   "execution_count": 46,
   "metadata": {},
   "outputs": [
    {
     "data": {
      "text/plain": [
       "17"
      ]
     },
     "execution_count": 46,
     "metadata": {},
     "output_type": "execute_result"
    }
   ],
   "source": [
    "kowope_analysis['form_field18'].nunique()"
   ]
  },
  {
   "cell_type": "code",
   "execution_count": 47,
   "metadata": {},
   "outputs": [
    {
     "data": {
      "text/plain": [
       "0.000000     37265\n",
       "0.271832     10402\n",
       "1.000000      5909\n",
       "2.000000      1546\n",
       "3.000000       508\n",
       "4.000000       200\n",
       "5.000000        85\n",
       "6.000000        33\n",
       "7.000000        24\n",
       "8.000000        11\n",
       "9.000000         6\n",
       "10.000000        4\n",
       "13.000000        2\n",
       "11.000000        2\n",
       "12.000000        1\n",
       "21.000000        1\n",
       "16.000000        1\n",
       "Name: form_field18, dtype: int64"
      ]
     },
     "execution_count": 47,
     "metadata": {},
     "output_type": "execute_result"
    }
   ],
   "source": [
    "kowope_analysis['form_field18'].value_counts()"
   ]
  },
  {
   "cell_type": "code",
   "execution_count": 48,
   "metadata": {},
   "outputs": [
    {
     "data": {
      "text/plain": [
       "21.0"
      ]
     },
     "execution_count": 48,
     "metadata": {},
     "output_type": "execute_result"
    }
   ],
   "source": [
    "kowope_analysis['form_field18'].max()"
   ]
  },
  {
   "cell_type": "markdown",
   "metadata": {},
   "source": [
    "the maximum Number of active credit lines on which full credit limit is utilized by the borrower is N21,for one person and it has 17 unique features"
   ]
  },
  {
   "cell_type": "code",
   "execution_count": 49,
   "metadata": {},
   "outputs": [
    {
     "data": {
      "text/plain": [
       "27"
      ]
     },
     "execution_count": 49,
     "metadata": {},
     "output_type": "execute_result"
    }
   ],
   "source": [
    "kowope_analysis['form_field19'].nunique()"
   ]
  },
  {
   "cell_type": "code",
   "execution_count": 50,
   "metadata": {},
   "outputs": [
    {
     "data": {
      "text/plain": [
       "0.0000     33598\n",
       "1.0000     10233\n",
       "2.0000      5108\n",
       "3.0000      2865\n",
       "4.0000      1615\n",
       "5.0000       956\n",
       "6.0000       589\n",
       "7.0000       371\n",
       "8.0000       217\n",
       "9.0000       160\n",
       "10.0000       83\n",
       "11.0000       58\n",
       "12.0000       55\n",
       "13.0000       23\n",
       "14.0000       15\n",
       "15.0000       15\n",
       "17.0000        8\n",
       "20.0000        6\n",
       "16.0000        5\n",
       "18.0000        4\n",
       "21.0000        4\n",
       "0.9488         4\n",
       "19.0000        3\n",
       "28.0000        2\n",
       "25.0000        1\n",
       "24.0000        1\n",
       "22.0000        1\n",
       "Name: form_field19, dtype: int64"
      ]
     },
     "execution_count": 50,
     "metadata": {},
     "output_type": "execute_result"
    }
   ],
   "source": [
    "kowope_analysis['form_field19'].value_counts()"
   ]
  },
  {
   "cell_type": "code",
   "execution_count": 53,
   "metadata": {},
   "outputs": [
    {
     "data": {
      "text/plain": [
       "28.0"
      ]
     },
     "execution_count": 53,
     "metadata": {},
     "output_type": "execute_result"
    }
   ],
   "source": [
    "kowope_analysis['form_field19'].max()"
   ]
  },
  {
   "cell_type": "markdown",
   "metadata": {},
   "source": [
    "the maximum Number of Number of active credit cards on which at least 75% credit limit is utilized by the borrower is 28% and it has 27 unique features"
   ]
  },
  {
   "cell_type": "code",
   "execution_count": 54,
   "metadata": {},
   "outputs": [
    {
     "data": {
      "text/plain": [
       "29.0"
      ]
     },
     "execution_count": 54,
     "metadata": {},
     "output_type": "execute_result"
    }
   ],
   "source": [
    "kowope_analysis['form_field20'].max()"
   ]
  },
  {
   "cell_type": "markdown",
   "metadata": {},
   "source": [
    "the maximum Number of Number of active credit lines on which at least 75% credit limit is utilized by the borrower is 29% "
   ]
  },
  {
   "cell_type": "code",
   "execution_count": 55,
   "metadata": {},
   "outputs": [
    {
     "data": {
      "text/plain": [
       "1957.875"
      ]
     },
     "execution_count": 55,
     "metadata": {},
     "output_type": "execute_result"
    }
   ],
   "source": [
    "kowope_analysis['form_field21'].max()"
   ]
  },
  {
   "cell_type": "markdown",
   "metadata": {},
   "source": [
    "the maximum Number of Number of Average utilization of active revolving credit card loans (%) is 1957.875"
   ]
  },
  {
   "cell_type": "code",
   "execution_count": 56,
   "metadata": {},
   "outputs": [
    {
     "data": {
      "text/plain": [
       "97200.0"
      ]
     },
     "execution_count": 56,
     "metadata": {},
     "output_type": "execute_result"
    }
   ],
   "source": [
    "kowope_analysis['form_field22'].max()"
   ]
  },
  {
   "cell_type": "code",
   "execution_count": 58,
   "metadata": {},
   "outputs": [
    {
     "data": {
      "text/plain": [
       "97200.0"
      ]
     },
     "execution_count": 58,
     "metadata": {},
     "output_type": "execute_result"
    }
   ],
   "source": [
    "kowope_analysis['form_field23'].max()"
   ]
  },
  {
   "cell_type": "code",
   "execution_count": 59,
   "metadata": {},
   "outputs": [
    {
     "data": {
      "text/plain": [
       "31863.75"
      ]
     },
     "execution_count": 59,
     "metadata": {},
     "output_type": "execute_result"
    }
   ],
   "source": [
    "kowope_analysis['form_field24'].max()"
   ]
  },
  {
   "cell_type": "code",
   "execution_count": 60,
   "metadata": {},
   "outputs": [
    {
     "data": {
      "text/plain": [
       "25093.5"
      ]
     },
     "execution_count": 60,
     "metadata": {},
     "output_type": "execute_result"
    }
   ],
   "source": [
    "kowope_analysis['form_field25'].max()"
   ]
  },
  {
   "cell_type": "code",
   "execution_count": 61,
   "metadata": {},
   "outputs": [
    {
     "data": {
      "text/plain": [
       "73275.0"
      ]
     },
     "execution_count": 61,
     "metadata": {},
     "output_type": "execute_result"
    }
   ],
   "source": [
    "kowope_analysis['form_field26'].max()"
   ]
  },
  {
   "cell_type": "code",
   "execution_count": 62,
   "metadata": {},
   "outputs": [
    {
     "data": {
      "text/plain": [
       "42522.0"
      ]
     },
     "execution_count": 62,
     "metadata": {},
     "output_type": "execute_result"
    }
   ],
   "source": [
    "kowope_analysis['form_field27'].max()"
   ]
  },
  {
   "cell_type": "code",
   "execution_count": 63,
   "metadata": {},
   "outputs": [
    {
     "data": {
      "text/plain": [
       "<seaborn.axisgrid.FacetGrid at 0x1d2b4ae7e80>"
      ]
     },
     "execution_count": 63,
     "metadata": {},
     "output_type": "execute_result"
    },
    {
     "data": {
      "image/png": "[encoded data removed]",
      "text/plain": [
       "<Figure size 720x360 with 2 Axes>"
      ]
     },
     "metadata": {
      "needs_background": "light"
     },
     "output_type": "display_data"
    }
   ],
   "source": [
    "sns.lmplot(x='form_field42',y='form_field14',data=kowope_analysis,col='form_field47')"
   ]
  },
  {
   "cell_type": "markdown",
   "metadata": {},
   "source": [
    "Plotting the financial stress index to the customers income, We can infer from the graph there is not really much i can give insight on probably due to the imbalanced state of the data but from the present data available the  most data point of high income has low financial stress."
   ]
  },
  {
   "cell_type": "markdown",
   "metadata": {},
   "source": [
    "# RECOMMENDATION"
   ]
  },
  {
   "cell_type": "markdown",
   "metadata": {},
   "source": [
    "KOWOPE MART REALLY HAS A PROBLEM HAS WE CAN SEE THAT THERE IS A HIGH NUMBER OF DEFAULTERS,SINCE WE HAVE THE DATA OF THE INCOME OF THE CUSTOMERS,AND THIER CREDIT SCORE AND CREDIT LINE, WE CAN USE THIS TO PIPELINE THE WAY CREDIT LOANS ARE GIVEN, FOR EXAMPLE WE CAN GIVE MORE LOANS TO PEOPLE WITH HIGH INCOME,THAN THE PEOPLE OF LOW INCOME,ALSO HAVING THE SEVERITY INDEX,SINCE WE HAVE THIS DETAILS AN INTUITION THAT COMES TO MIND IS THAT THERE IS SOME SORT OF EMOTIONAL FACTOR GOING INTO THIS LOAN GIVING OUT,SO ITS IS A GREAT IDEA THAT YOU HIRED A DATA SCIENTIST TO SOLVE THIS PROBLEM FOR YOU, i SUGGEST WE GO AHEAD AND BUILD A MACHINE LEARNING MODEL TO TRAIN THE COMPUTERS OF THIS PROCESS SO THE COMPUTER CAN HANDLE THIS PROCESS AND I CAN SAY THEY WOULD BE AN INCREASE IN THE ACCURACY OF DISHING OUT LOANS.\n",
    "THANK YOU!!!"
   ]
  }
 ],
 "metadata": {
  "kernelspec": {
   "display_name": "Python 3",
   "language": "python",
   "name": "python3"
  },
  "language_info": {
   "codemirror_mode": {
    "name": "ipython",
    "version": 3
   },
   "file_extension": ".py",
   "mimetype": "text/x-python",
   "name": "python",
   "nbconvert_exporter": "python",
   "pygments_lexer": "ipython3",
   "version": "3.8.5"
  }
 },
 "nbformat": 4,
 "nbformat_minor": 4
}
